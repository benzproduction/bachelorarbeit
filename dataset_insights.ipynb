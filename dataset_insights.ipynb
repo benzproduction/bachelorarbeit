{
 "cells": [
  {
   "attachments": {},
   "cell_type": "markdown",
   "metadata": {},
   "source": [
    "# General insights into the dataset\n",
    "\n",
    "### Answers to the following questions:\n",
    "- How many documents are in the dataset?\n",
    "- How many pages are there ?\n",
    "- How many pages on average ?\n",
    "- How many tokens (using the gpt tiktoken (izer)) are there ?\n",
    "- How many tokens on average ?\n",
    "- How many text chunks are there ?"
   ]
  },
  {
   "cell_type": "code",
   "execution_count": null,
   "metadata": {},
   "outputs": [],
   "source": [
    "import os\n",
    "txt_dir = 'data/raw/real_estate_txts'\n",
    "pdf_dir = 'data/raw/real_estate_pdfs'\n",
    "TEXT_EMBEDDING_CHUNK_SIZE = 300"
   ]
  },
  {
   "cell_type": "code",
   "execution_count": 7,
   "metadata": {},
   "outputs": [
    {
     "name": "stdout",
     "output_type": "stream",
     "text": [
      "Number of pages: 1414\n",
      "Number of pdfs: 10\n",
      "Average number of pages per pdf: 141.4\n"
     ]
    }
   ],
   "source": [
    "# how many pages of average\n",
    "import PyPDF2\n",
    "pdf_files = sorted([x for x in os.listdir(pdf_dir) if 'DS_Store' not in x])\n",
    "\n",
    "pages_list = []\n",
    "pdf_count = 0\n",
    "for file in pdf_files:\n",
    "    pdfFileObj = open(os.path.join(pdf_dir,file), 'rb')\n",
    "    pdfReader = PyPDF2.PdfReader(pdfFileObj)\n",
    "    pages_list.append(len(pdfReader.pages))\n",
    "    pdf_count += 1\n",
    "\n",
    "print(f\"Number of pdfs: {pdf_count}\")\n",
    "print(f\"Number of pages: {sum(pages_list)}\")\n",
    "print(f\"Average number of pages per pdf: {sum(pages_list)/pdf_count}\")"
   ]
  },
  {
   "cell_type": "code",
   "execution_count": 4,
   "metadata": {},
   "outputs": [
    {
     "name": "stdout",
     "output_type": "stream",
     "text": [
      "Number of files: 9\n",
      "Number of chunks: 698\n"
     ]
    }
   ],
   "source": [
    "txt_files = sorted([x for x in os.listdir(txt_dir) if 'DS_Store' not in x])\n",
    "print(f\"Number of text files: {len(txt_files)}\")\n",
    "chunks_count = 0\n",
    "for file in txt_files:\n",
    "    with open(os.path.join(txt_dir,file), 'r') as f:\n",
    "        chunks_count += len(f.readlines()) // TEXT_EMBEDDING_CHUNK_SIZE\n",
    "\n",
    "print(f\"Number of chunks: {chunks_count}\")"
   ]
  },
  {
   "cell_type": "code",
   "execution_count": 12,
   "metadata": {},
   "outputs": [
    {
     "name": "stdout",
     "output_type": "stream",
     "text": [
      "Number of tokens: 473002\n",
      "Average tokens per file: 52555.77777777778\n"
     ]
    }
   ],
   "source": [
    "import tiktoken\n",
    "from prep_data.clean_text import clean_text\n",
    "\n",
    "tokenizer = tiktoken.get_encoding(\"cl100k_base\")\n",
    "\n",
    "token_count_list = []\n",
    "for file in txt_files:\n",
    "    with open(os.path.join(txt_dir,file), 'r') as f:\n",
    "        text = f.read()\n",
    "        text = clean_text(text)\n",
    "        tokens = tokenizer.encode(text)\n",
    "        token_count_list.append(len(tokens))\n",
    "\n",
    "print(f\"Number of tokens: {sum(token_count_list)}\")\n",
    "print(f\"Average tokens per file: {sum(token_count_list) / len(txt_files)}\")\n"
   ]
  }
 ],
 "metadata": {
  "kernelspec": {
   "display_name": "Python 3",
   "language": "python",
   "name": "python3"
  },
  "language_info": {
   "codemirror_mode": {
    "name": "ipython",
    "version": 3
   },
   "file_extension": ".py",
   "mimetype": "text/x-python",
   "name": "python",
   "nbconvert_exporter": "python",
   "pygments_lexer": "ipython3",
   "version": "3.11.3"
  },
  "orig_nbformat": 4
 },
 "nbformat": 4,
 "nbformat_minor": 2
}
