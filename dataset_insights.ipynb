{
 "cells": [
  {
   "attachments": {},
   "cell_type": "markdown",
   "metadata": {},
   "source": [
    "# General insights into the dataset\n",
    "\n",
    "### Answers to the following questions:\n",
    "- How many documents are in the dataset?\n",
    "- How many pages are there ?\n",
    "- How many pages on average ?\n",
    "- How many tokens (using the gpt tiktoken (izer)) are there ?\n",
    "- How many tokens on average ?\n",
    "- How many text chunks are there ?"
   ]
  },
  {
   "cell_type": "code",
   "execution_count": 1,
   "metadata": {},
   "outputs": [],
   "source": [
    "import os\n",
    "txt_dir = 'data/raw/txt2'\n",
    "pdf_dir = 'data/raw/pdfs2'\n",
    "TEXT_EMBEDDING_CHUNK_SIZE = 300"
   ]
  },
  {
   "cell_type": "code",
   "execution_count": 2,
   "metadata": {},
   "outputs": [
    {
     "name": "stdout",
     "output_type": "stream",
     "text": [
      "Number of pdfs: 12\n",
      "Number of pages: 479\n",
      "Average number of pages per pdf: 39.916666666666664\n"
     ]
    }
   ],
   "source": [
    "# how many pages of average\n",
    "import PyPDF2\n",
    "pdf_files = sorted([x for x in os.listdir(pdf_dir) if 'DS_Store' not in x])\n",
    "\n",
    "pages_list = []\n",
    "pdf_count = 0\n",
    "for file in pdf_files:\n",
    "    pdfFileObj = open(os.path.join(pdf_dir,file), 'rb')\n",
    "    pdfReader = PyPDF2.PdfReader(pdfFileObj)\n",
    "    pages_list.append(len(pdfReader.pages))\n",
    "    pdf_count += 1\n",
    "\n",
    "print(f\"Number of pdfs: {pdf_count}\")\n",
    "print(f\"Number of pages: {sum(pages_list)}\")\n",
    "print(f\"Average number of pages per pdf: {sum(pages_list)/pdf_count}\")"
   ]
  },
  {
   "cell_type": "code",
   "execution_count": 3,
   "metadata": {},
   "outputs": [
    {
     "name": "stdout",
     "output_type": "stream",
     "text": [
      "Number of text files: 11\n",
      "Number of chunks: 224\n"
     ]
    }
   ],
   "source": [
    "txt_files = sorted([x for x in os.listdir(txt_dir) if 'DS_Store' not in x])\n",
    "print(f\"Number of text files: {len(txt_files)}\")\n",
    "chunks_count = 0\n",
    "for file in txt_files:\n",
    "    with open(os.path.join(txt_dir,file), 'r') as f:\n",
    "        chunks_count += len(f.readlines()) // TEXT_EMBEDDING_CHUNK_SIZE\n",
    "\n",
    "print(f\"Number of chunks: {chunks_count}\")"
   ]
  },
  {
   "cell_type": "code",
   "execution_count": 4,
   "metadata": {},
   "outputs": [
    {
     "ename": "ModuleNotFoundError",
     "evalue": "No module named 'prep_data.clean_text'",
     "output_type": "error",
     "traceback": [
      "\u001b[0;31m---------------------------------------------------------------------------\u001b[0m",
      "\u001b[0;31mModuleNotFoundError\u001b[0m                       Traceback (most recent call last)",
      "Cell \u001b[0;32mIn[4], line 2\u001b[0m\n\u001b[1;32m      1\u001b[0m \u001b[39mimport\u001b[39;00m \u001b[39mtiktoken\u001b[39;00m\n\u001b[0;32m----> 2\u001b[0m \u001b[39mfrom\u001b[39;00m \u001b[39mprep_data\u001b[39;00m\u001b[39m.\u001b[39;00m\u001b[39mclean_text\u001b[39;00m \u001b[39mimport\u001b[39;00m clean_text\n\u001b[1;32m      4\u001b[0m tokenizer \u001b[39m=\u001b[39m tiktoken\u001b[39m.\u001b[39mget_encoding(\u001b[39m\"\u001b[39m\u001b[39mcl100k_base\u001b[39m\u001b[39m\"\u001b[39m)\n\u001b[1;32m      6\u001b[0m token_count_list \u001b[39m=\u001b[39m []\n",
      "\u001b[0;31mModuleNotFoundError\u001b[0m: No module named 'prep_data.clean_text'"
     ]
    }
   ],
   "source": [
    "import tiktoken\n",
    "from .clean_text import clean_text\n",
    "\n",
    "tokenizer = tiktoken.get_encoding(\"cl100k_base\")\n",
    "\n",
    "token_count_list = []\n",
    "for file in txt_files:\n",
    "    with open(os.path.join(txt_dir,file), 'r') as f:\n",
    "        text = f.read()\n",
    "        text = clean_text(text)\n",
    "        tokens = tokenizer.encode(text)\n",
    "        token_count_list.append(len(tokens))\n",
    "\n",
    "print(f\"Number of tokens: {sum(token_count_list)}\")\n",
    "print(f\"Average tokens per file: {sum(token_count_list) / len(txt_files)}\")\n"
   ]
  }
 ],
 "metadata": {
  "kernelspec": {
   "display_name": "Python 3",
   "language": "python",
   "name": "python3"
  },
  "language_info": {
   "codemirror_mode": {
    "name": "ipython",
    "version": 3
   },
   "file_extension": ".py",
   "mimetype": "text/x-python",
   "name": "python",
   "nbconvert_exporter": "python",
   "pygments_lexer": "ipython3",
   "version": "3.11.3"
  },
  "orig_nbformat": 4
 },
 "nbformat": 4,
 "nbformat_minor": 2
}
