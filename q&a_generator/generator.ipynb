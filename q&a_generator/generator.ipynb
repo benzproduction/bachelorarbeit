{
 "cells": [
  {
   "attachments": {},
   "cell_type": "markdown",
   "metadata": {},
   "source": [
    "# Curate a list of questions and answers from a list of documents\n",
    "\n",
    "- Use each text chunk to generate 10 possible questions.\n",
    "- To generate the questions use GPT-3 model."
   ]
  },
  {
   "cell_type": "code",
   "execution_count": null,
   "metadata": {},
   "outputs": [],
   "source": []
  }
 ],
 "metadata": {
  "language_info": {
   "name": "python"
  },
  "orig_nbformat": 4
 },
 "nbformat": 4,
 "nbformat_minor": 2
}
