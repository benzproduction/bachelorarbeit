{
 "cells": [
  {
   "cell_type": "code",
   "execution_count": 1,
   "metadata": {},
   "outputs": [],
   "source": [
    "import pandas as pd\n",
    "import warnings\n",
    "\n",
    "warnings.filterwarnings(action=\"ignore\", message=\"unclosed\", category=ImportWarning)\n",
    "warnings.filterwarnings(\"ignore\", category=DeprecationWarning) \n",
    "pd.set_option('display.max_colwidth', 0)"
   ]
  },
  {
   "cell_type": "code",
   "execution_count": 2,
   "metadata": {},
   "outputs": [],
   "source": [
    "import openai\n",
    "from helpers import get_env\n",
    "\n",
    "API_KEY, RESOURCE_ENDPOINT = get_env(\"azure-openai\")\n",
    "\n",
    "openai.api_type = \"azure\"\n",
    "openai.api_key = API_KEY\n",
    "openai.api_base = RESOURCE_ENDPOINT\n",
    "openai.api_version = \"2022-12-01\""
   ]
  },
  {
   "cell_type": "code",
   "execution_count": 3,
   "metadata": {},
   "outputs": [
    {
     "data": {
      "text/plain": [
       "147"
      ]
     },
     "execution_count": 3,
     "metadata": {},
     "output_type": "execute_result"
    }
   ],
   "source": [
    "import os\n",
    "data_dir = os.path.join(os.curdir,'./../data/raw/pdfs')\n",
    "pdf_files = sorted([x for x in os.listdir(data_dir) if 'DS_Store' not in x])\n",
    "len(pdf_files)"
   ]
  },
  {
   "attachments": {},
   "cell_type": "markdown",
   "metadata": {},
   "source": [
    "### Setup redis"
   ]
  },
  {
   "cell_type": "code",
   "execution_count": 4,
   "metadata": {},
   "outputs": [
    {
     "data": {
      "text/plain": [
       "True"
      ]
     },
     "execution_count": 4,
     "metadata": {},
     "output_type": "execute_result"
    }
   ],
   "source": [
    "from database import get_redis_connection\n",
    "from redis import Redis\n",
    "from redis.commands.search.query import Query\n",
    "from redis.commands.search.field import (\n",
    "    TextField,\n",
    "    VectorField,\n",
    "    NumericField\n",
    ")\n",
    "from redis.commands.search.indexDefinition import (\n",
    "    IndexDefinition,\n",
    "    IndexType\n",
    ")\n",
    "\n",
    "redis_client = get_redis_connection()\n",
    "redis_client.ping()"
   ]
  },
  {
   "cell_type": "code",
   "execution_count": 5,
   "metadata": {},
   "outputs": [],
   "source": [
    "# Create search index\n",
    "\n",
    "# Set our default models and chunking size\n",
    "from config import VECTOR_FIELD_NAME\n",
    "# Constants\n",
    "VECTOR_DIM = 1536 #len(data['title_vector'][0]) # length of the vectors\n",
    "#VECTOR_NUMBER = len(data)                 # initial number of vectors\n",
    "PREFIX = \"testdocs\"                            # prefix for the document keys\n",
    "DISTANCE_METRIC = \"COSINE\"                # distance metric for the vectors (ex. COSINE, IP, L2)\n",
    "\n",
    "# Index\n",
    "INDEX_NAME = \"t1-index\"           # name of the search index\n",
    "VECTOR_FIELD_NAME = 'content_vector'\n",
    "\n",
    "# Define RediSearch fields for each of the columns in the dataset\n",
    "# This is where you should add any additional metadata you want to capture\n",
    "filename = TextField(\"filename\")\n",
    "text_chunk = TextField(\"text_chunk\")\n",
    "file_chunk_index = NumericField(\"file_chunk_index\")\n",
    "\n",
    "# define RediSearch vector fields to use HNSW index\n",
    "\n",
    "text_embedding = VectorField(VECTOR_FIELD_NAME,\n",
    "    \"HNSW\", {\n",
    "        \"TYPE\": \"FLOAT32\",\n",
    "        \"DIM\": VECTOR_DIM,\n",
    "        \"DISTANCE_METRIC\": DISTANCE_METRIC\n",
    "    }\n",
    ")\n",
    "# Add all our field objects to a list to be created as an index\n",
    "fields = [filename,text_chunk,file_chunk_index,text_embedding]"
   ]
  },
  {
   "cell_type": "code",
   "execution_count": 6,
   "metadata": {},
   "outputs": [
    {
     "name": "stdout",
     "output_type": "stream",
     "text": [
      "Index already exists\n"
     ]
    }
   ],
   "source": [
    "# Optional step to drop the index if it already exists\n",
    "#redis_client.ft(INDEX_NAME).dropindex()\n",
    "\n",
    "# Check if index exists\n",
    "try:\n",
    "    redis_client.ft(INDEX_NAME).info()\n",
    "    print(\"Index already exists\")\n",
    "except Exception as e:\n",
    "    print(e)\n",
    "    # Create RediSearch Index\n",
    "    print('Not there yet. Creating')\n",
    "    redis_client.ft(INDEX_NAME).create_index(\n",
    "        fields = fields,\n",
    "        definition = IndexDefinition(prefix=[PREFIX], index_type=IndexType.HASH)\n",
    "    )"
   ]
  },
  {
   "attachments": {},
   "cell_type": "markdown",
   "metadata": {},
   "source": [
    "# Ingestion\n",
    "\n",
    "Handled in the embeddings.py file"
   ]
  },
  {
   "cell_type": "code",
   "execution_count": 7,
   "metadata": {},
   "outputs": [
    {
     "data": {
      "text/plain": [
       "'859'"
      ]
     },
     "execution_count": 7,
     "metadata": {},
     "output_type": "execute_result"
    }
   ],
   "source": [
    "# Check that our docs have been inserted\n",
    "redis_client.ft(INDEX_NAME).info()['num_docs']"
   ]
  },
  {
   "attachments": {},
   "cell_type": "markdown",
   "metadata": {},
   "source": [
    "# Query"
   ]
  },
  {
   "cell_type": "code",
   "execution_count": 8,
   "metadata": {},
   "outputs": [],
   "source": [
    "from database import get_redis_results"
   ]
  },
  {
   "cell_type": "code",
   "execution_count": 10,
   "metadata": {},
   "outputs": [
    {
     "name": "stdout",
     "output_type": "stream",
     "text": [
      "CPU times: user 15.2 ms, sys: 3.29 ms, total: 18.5 ms\n",
      "Wall time: 622 ms\n"
     ]
    },
    {
     "data": {
      "text/html": [
       "<div>\n",
       "<style scoped>\n",
       "    .dataframe tbody tr th:only-of-type {\n",
       "        vertical-align: middle;\n",
       "    }\n",
       "\n",
       "    .dataframe tbody tr th {\n",
       "        vertical-align: top;\n",
       "    }\n",
       "\n",
       "    .dataframe thead th {\n",
       "        text-align: right;\n",
       "    }\n",
       "</style>\n",
       "<table border=\"1\" class=\"dataframe\">\n",
       "  <thead>\n",
       "    <tr style=\"text-align: right;\">\n",
       "      <th></th>\n",
       "      <th>id</th>\n",
       "      <th>result</th>\n",
       "      <th>certainty</th>\n",
       "    </tr>\n",
       "  </thead>\n",
       "  <tbody>\n",
       "    <tr>\n",
       "      <th>0</th>\n",
       "      <td>0</td>\n",
       "      <td>Engineering, Modifications Maintenance pro- vides technical fleet solutions for Boeing Global Services’ commercial and government customers around the world to convert, sustain and upgrade any type of aircraft flown today, with efficient custom and standard services in engineering and touch-labor. The diverse team has a formal presence in numerous countries and performs field service work in most markets. Seamless support is possible thanks to Fleet Care engineering services—supporting full fleet operations—in addition to multiple global field service teams, heavy airframe modification facilities, customer service and maintenance, repair, overhaul (MRO) operations centers, and 247 technical support for spare parts. Boeing Global Services’ supply chain operates one of the industry’s most comprehensive parts and services networks. Using supplier manage- ment expertise and advanced analytics capa- bilities, we support all aspects of aircraft fleet, parts and service, including airplane-on-ground support. We also deliver customer-focused solutions such as component repair or landing gear overhaul and exchange. Whether it’s for aircraft in or out of production, we understand the material and logistics support for aircraft, notably spare parts, retrofit kits, distribution and life-cycle management, as well as perfor- mance-based logistics agreements such as the C-17 Globemaster III Integrated Sustainment Program. Global Services has distribution centers and component repair facilities in nine countries, supporting customers worldwide. Training Professional Services is a leader in commercial and defense aviation training and capabilities, including software development, engineering and technical services, training center support and pilot provisioning. Combined with our global infrastructure and research facil- ities, we offer custom simulators, training equip- ment and tailored software. Advances in these technologies better connect pilots in the sky with simulators on the ground, reducing aircraft usage and extending fleet life. “Professional services” describes our intention to look at the ecosystem of aviation and provide a complete solution, including services such as infrastructure andor program development and facilities management. 1010289bo119-130. indd 127 127 3118 7:28 PM 01-Mar-18 1010289bo119-130T 1010289bo amoore C M Y K 8.3750 X 10.</td>\n",
       "      <td>0.161366820335</td>\n",
       "    </tr>\n",
       "    <tr>\n",
       "      <th>1</th>\n",
       "      <td>1</td>\n",
       "      <td>Our services expertise, the global reach of our busi- ness and our strong customer partnerships have us well positioned to compete and win for the long-term in areas such as spare parts, maintenance, modifica- tions and upgrades, training. And, increasingly, digital solutions, which generated approximately $1 billion in revenue in 2017. Early key wins include: An F-15 sustainment contract for Qatar. An order for seven 737-800 Boeing Converted Freighters for GECAS. A 787 landing gear exchange agreement with All Nippon Airways. A P-8I training agreement with India. Accelerating Our Pace of Progress In 2017, driven in part by a global business environ- ment that is growing more competitive by the day, we promoted a productive sense of urgency at all levels of the company to accelerate the pace of our innovation. Succeeding in rapidly changing global markets requires that we think and do things differently. It demands change, a willingness to embrace it and the agility to both drive and respond to external forces. The com- petition is not standing still, and neither are we. Over the past year, we made several strategic invest- ments to better position ourselves for future markets and growth. We stood up Boeing Global Services to expand our share of the aerospace services market. 1010289botxt. indd 7 7 3518 4:38 PM 1010289botxtp2,3,7,8,9T 8.3750 X 10.8750 We continued to develop new commercial, defense and space products and services such as the 787-10 and 777X, the KC-46 tanker and T-X trainer aircraft, and the CST-100 Starliner and Space Launch System. We took steps to strengthen our capabilities in areas such as data analytics, avionics, actuation and additive manufacturing—high-value work that benefits from our internal expertise and global scale. We launched our Boeing HorizonX innovation cell and formed partnerships with several companies whose technology can change the competitive landscape. We acquired Aurora Flight Sciences to bolster our autonomous-flight portfolio.</td>\n",
       "      <td>0.171360313892</td>\n",
       "    </tr>\n",
       "  </tbody>\n",
       "</table>\n",
       "</div>"
      ],
      "text/plain": [
       "   id   \n",
       "0  0   \\\n",
       "1  1    \n",
       "\n",
       "                                                                                                                                                                                                                                                                                                                                                                                                                                                                                                                                                                                                                                                                                                                                                                                                                                                                                                                                                                                                                                                                                                                                                                                                                                                                                                                                                                                                                                                                                                                                                                                                                                                                                                                                                                                                                                                                                                                                                                                                                                                                                                                                                                                                                                                                                                                                                                                                                                                                            result   \n",
       "0   Engineering, Modifications Maintenance pro- vides technical fleet solutions for Boeing Global Services’ commercial and government customers around the world to convert, sustain and upgrade any type of aircraft flown today, with efficient custom and standard services in engineering and touch-labor. The diverse team has a formal presence in numerous countries and performs field service work in most markets. Seamless support is possible thanks to Fleet Care engineering services—supporting full fleet operations—in addition to multiple global field service teams, heavy airframe modification facilities, customer service and maintenance, repair, overhaul (MRO) operations centers, and 247 technical support for spare parts. Boeing Global Services’ supply chain operates one of the industry’s most comprehensive parts and services networks. Using supplier manage- ment expertise and advanced analytics capa- bilities, we support all aspects of aircraft fleet, parts and service, including airplane-on-ground support. We also deliver customer-focused solutions such as component repair or landing gear overhaul and exchange. Whether it’s for aircraft in or out of production, we understand the material and logistics support for aircraft, notably spare parts, retrofit kits, distribution and life-cycle management, as well as perfor- mance-based logistics agreements such as the C-17 Globemaster III Integrated Sustainment Program. Global Services has distribution centers and component repair facilities in nine countries, supporting customers worldwide. Training Professional Services is a leader in commercial and defense aviation training and capabilities, including software development, engineering and technical services, training center support and pilot provisioning. Combined with our global infrastructure and research facil- ities, we offer custom simulators, training equip- ment and tailored software. Advances in these technologies better connect pilots in the sky with simulators on the ground, reducing aircraft usage and extending fleet life. “Professional services” describes our intention to look at the ecosystem of aviation and provide a complete solution, including services such as infrastructure andor program development and facilities management. 1010289bo119-130. indd 127 127 3118 7:28 PM 01-Mar-18 1010289bo119-130T 1010289bo amoore C M Y K 8.3750 X 10.  \\\n",
       "1   Our services expertise, the global reach of our busi- ness and our strong customer partnerships have us well positioned to compete and win for the long-term in areas such as spare parts, maintenance, modifica- tions and upgrades, training. And, increasingly, digital solutions, which generated approximately $1 billion in revenue in 2017. Early key wins include: An F-15 sustainment contract for Qatar. An order for seven 737-800 Boeing Converted Freighters for GECAS. A 787 landing gear exchange agreement with All Nippon Airways. A P-8I training agreement with India. Accelerating Our Pace of Progress In 2017, driven in part by a global business environ- ment that is growing more competitive by the day, we promoted a productive sense of urgency at all levels of the company to accelerate the pace of our innovation. Succeeding in rapidly changing global markets requires that we think and do things differently. It demands change, a willingness to embrace it and the agility to both drive and respond to external forces. The com- petition is not standing still, and neither are we. Over the past year, we made several strategic invest- ments to better position ourselves for future markets and growth. We stood up Boeing Global Services to expand our share of the aerospace services market. 1010289botxt. indd 7 7 3518 4:38 PM 1010289botxtp2,3,7,8,9T 8.3750 X 10.8750 We continued to develop new commercial, defense and space products and services such as the 787-10 and 777X, the KC-46 tanker and T-X trainer aircraft, and the CST-100 Starliner and Space Launch System. We took steps to strengthen our capabilities in areas such as data analytics, avionics, actuation and additive manufacturing—high-value work that benefits from our internal expertise and global scale. We launched our Boeing HorizonX innovation cell and formed partnerships with several companies whose technology can change the competitive landscape. We acquired Aurora Flight Sciences to bolster our autonomous-flight portfolio.                                                                                                                                                                                                                                                                                                                                                                                            \n",
       "\n",
       "        certainty  \n",
       "0  0.161366820335  \n",
       "1  0.171360313892  "
      ]
     },
     "execution_count": 10,
     "metadata": {},
     "output_type": "execute_result"
    }
   ],
   "source": [
    "%%time\n",
    "\n",
    "f1_query='what is Boeing Global Services'\n",
    "\n",
    "result_df = get_redis_results(redis_client,f1_query,index_name=INDEX_NAME)\n",
    "result_df.head(2)"
   ]
  }
 ],
 "metadata": {
  "kernelspec": {
   "display_name": "Python 3",
   "language": "python",
   "name": "python3"
  },
  "language_info": {
   "codemirror_mode": {
    "name": "ipython",
    "version": 3
   },
   "file_extension": ".py",
   "mimetype": "text/x-python",
   "name": "python",
   "nbconvert_exporter": "python",
   "pygments_lexer": "ipython3",
   "version": "3.11.3"
  },
  "orig_nbformat": 4
 },
 "nbformat": 4,
 "nbformat_minor": 2
}
